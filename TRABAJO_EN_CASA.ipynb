{
  "nbformat": 4,
  "nbformat_minor": 0,
  "metadata": {
    "colab": {
      "provenance": []
    },
    "kernelspec": {
      "name": "python3",
      "display_name": "Python 3"
    },
    "language_info": {
      "name": "python"
    }
  },
  "cells": [
    {
      "cell_type": "code",
      "execution_count": null,
      "metadata": {
        "id": "rLXPt4elS5rO"
      },
      "outputs": [],
      "source": []
    },
    {
      "cell_type": "markdown",
      "source": [
        "trabajo de ciencias de datos\n",
        "\n",
        "\"## 1. Sin usar el computador, evalúe las siguientes expresiones, y para cada una de ellas indique el resultado y su tipo (si la expresión es válida) o qué error ocurre:\\n\",\n",
        "\n",
        "\"# 2. Imprima su nombre y fecha\\n\",\n",
        "\n",
        " \"# 3. Solicite un nombre y que el programa salude\\n\"\n",
        "\n",
        " # 4. Solicite el radio (un numero) de un círculo e imprima como salida su diámetro, perímetro y su área\n",
        "\n",
        " \"# 5. Solicite 6 notas y calcule el promedio de ellas\\n\",\n",
        "\n",
        " \"# 6. Solicite un valor e imprima que tipo de dato es\\n\"\n",
        "\n",
        " # 7. Escriba en código la siguiente ecuación\\n\"\n",
        "\n",
        " \"# 8. Solicite número de horas trabajadas y coste por horas e imprima el valor\n",
        "\n",
        " # 9. Solicite la temperatura en grados Celsius e imprima en grados Kelvin y Fahrenheit\\\n",
        " 10. Solicite 2 numeros e imprima si el segundo es mayor\n",
        " # 11. Solicite 2 numeros e imprima si el segundo es menor\n",
        " \"# 12. Solicite una distancia (metros) y la velocidad (metros/segundos) e imprima el tiempo que se demora el recorrido\n",
        " \"# 13. Solicite al usuario tres valores y escriba en código la siguiente ecuación\n",
        "\n",
        " # 14. Investigue como se saca la raíz cuadrada de un número en Python y escriba la solución en el cuadro de abajo\n",
        " # 15.  Con lo anterior solicite 2 numeros (Cateto a y Cateto b) e imprima la hipotenusa"
      ],
      "metadata": {
        "id": "JnuDaojzTdTA"
      }
    },
    {
      "cell_type": "code",
      "source": [
        "\n",
        "# 2. Imprima su nombre y fecha\n"
      ],
      "metadata": {
        "id": "EhRgpWifVAZP"
      },
      "execution_count": null,
      "outputs": []
    },
    {
      "cell_type": "code",
      "source": [
        "print(\"Nicolas Armando Ochoa Hernandez\")\n",
        "print(\"15/07/2004\")"
      ],
      "metadata": {
        "colab": {
          "base_uri": "https://localhost:8080/"
        },
        "id": "RnyieNb4VfRZ",
        "outputId": "43721922-3777-4355-ef22-0f03c92b7446"
      },
      "execution_count": null,
      "outputs": [
        {
          "output_type": "stream",
          "name": "stdout",
          "text": [
            "Nicolas Armando Ochoa Hernandez\n",
            "15/07/2004\n"
          ]
        }
      ]
    },
    {
      "cell_type": "code",
      "source": [
        "# input es una funcion que te permite almacenar una respuesta relacionada con lo que esta dentro del parantesisis\n",
        "a=input(\"cual es tu nombre?\")"
      ],
      "metadata": {
        "id": "1hWzdmPaVejx",
        "colab": {
          "base_uri": "https://localhost:8080/"
        },
        "outputId": "6ccd94a4-4c7a-476e-ca47-5d7feb70443a"
      },
      "execution_count": null,
      "outputs": [
        {
          "name": "stdout",
          "output_type": "stream",
          "text": [
            "cual es tu nombre? nicolas salchipapa\n"
          ]
        }
      ]
    },
    {
      "cell_type": "code",
      "source": [
        "a"
      ],
      "metadata": {
        "colab": {
          "base_uri": "https://localhost:8080/",
          "height": 35
        },
        "id": "1Ns6N0RC88i0",
        "outputId": "ae1c2821-2b5b-4f71-c2e0-fc7988e7505b"
      },
      "execution_count": null,
      "outputs": [
        {
          "output_type": "execute_result",
          "data": {
            "text/plain": [
              "' nicolas salchipapa'"
            ],
            "application/vnd.google.colaboratory.intrinsic+json": {
              "type": "string"
            }
          },
          "metadata": {},
          "execution_count": 3
        }
      ]
    },
    {
      "cell_type": "markdown",
      "source": [
        "ingrese el radio de un circulo452\n",
        "el area del circulo es 641841.4464"
      ],
      "metadata": {
        "id": "NKYpAvdj9D_S"
      }
    },
    {
      "cell_type": "code",
      "source": [
        "a=input(\"ingrese el radio de un circulo\")\n",
        "b=3.1416*(int(a)**2)\n",
        "c=2*int(a)**2\n",
        "print(f\"el area del circulo es {b}\")\n",
        "print(f\"su diametro es igual a {c}\")\n",
        "print(f\"su perimetro es igual a {2*b}\")"
      ],
      "metadata": {
        "colab": {
          "base_uri": "https://localhost:8080/"
        },
        "id": "i57NxMGM8_pa",
        "outputId": "130f0e39-a780-462c-f962-f34bdb9edf02"
      },
      "execution_count": null,
      "outputs": [
        {
          "output_type": "stream",
          "name": "stdout",
          "text": [
            "ingrese el radio de un circulo45\n",
            "el area del circulo es 6361.74\n",
            "su diametro es igual a 4050\n",
            "su perimetro es igual a 12723.48\n"
          ]
        }
      ]
    },
    {
      "cell_type": "code",
      "source": [
        "54# prompt: # prompt: Solicite 6 notas y calcule el promedio de ellas con phyton para principiantes no utilice float\n",
        "\n",
        "nota1 = int(input(\"Ingrese la nota 1: \"))\n",
        "nota2 = int(input(\"Ingrese la nota 2: \"))\n",
        "nota3 = int(input(\"Ingrese la nota 3: \"))\n",
        "nota4 = int(input(\"Ingrese la nota 4: \"))\n",
        "nota5 = int(input(\"Ingrese la nota 5: \"))\n",
        "nota6 = int(input(\"Ingrese la nota 6: \"))\n",
        "\n",
        "suma_notas = nota1 + nota2 + nota3 + nota4 + nota5 + nota6\n",
        "promedio = suma_notas // 6  # Usamos // para obtener una división entera\n",
        "\n",
        "print(\"El promedio de las notas es:\", promedio)\n"
      ],
      "metadata": {
        "colab": {
          "base_uri": "https://localhost:8080/"
        },
        "id": "xl-TqYlx1-P3",
        "outputId": "f108af15-6d6f-4ee3-ed19-660957793fa4"
      },
      "execution_count": null,
      "outputs": [
        {
          "output_type": "stream",
          "name": "stdout",
          "text": [
            "Ingrese la nota 1: 485\n",
            "Ingrese la nota 2: 45\n",
            "Ingrese la nota 3: 23\n",
            "Ingrese la nota 4: 45\n",
            "Ingrese la nota 5: 45\n",
            "Ingrese la nota 6: 59\n",
            "El promedio de las notas es: 117\n"
          ]
        }
      ]
    },
    {
      "cell_type": "code",
      "source": [
        "# prompt: # 8. Solicite número de horas trabajadas y coste por horas e imprima el valor mas para principiantes\n",
        "\n",
        "horas_trabajadas = int(input(\"Ingrese el número de horas trabajadas: \"))\n",
        "coste_por_hora = int(input(\"Ingrese el coste por hora: \"))\n",
        "\n",
        "valor_total = horas_trabajadas * coste_por_hora\n",
        "\n",
        "print(\"El valor total a pagar es:\", valor_total)\n",
        "\n"
      ],
      "metadata": {
        "colab": {
          "base_uri": "https://localhost:8080/"
        },
        "id": "Rbz8uxSP0xg1",
        "outputId": "3da19b29-2bea-462a-cc5b-1a7a981a4e6a"
      },
      "execution_count": null,
      "outputs": [
        {
          "output_type": "stream",
          "name": "stdout",
          "text": [
            "Ingrese el número de horas trabajadas: 75\n",
            "Ingrese el coste por hora: 4500\n",
            "El valor total a pagar es: 337500\n"
          ]
        }
      ]
    },
    {
      "cell_type": "code",
      "source": [
        "# prompt: 9. Solicite la temperatura en grados Celsius e imprima en grados Kelvin y Fahrenheit\\\n",
        "\n",
        "celsius = int(input(\"Ingrese la temperatura en grados Celsius: \"))\n",
        "\n",
        "kelvin = celsius + 273\n",
        "fahrenheit = (celsius * 9 // 5) + 32\n",
        "\n",
        "print(\"La temperatura en Kelvin es:\", kelvin)\n",
        "print(\"La temperatura en Fahrenheit es:\", fahrenheit)\n"
      ],
      "metadata": {
        "colab": {
          "base_uri": "https://localhost:8080/"
        },
        "id": "QCvjDExf1ELS",
        "outputId": "f37baad0-32fd-4319-c5ee-5d5a9282a9ff"
      },
      "execution_count": null,
      "outputs": [
        {
          "output_type": "stream",
          "name": "stdout",
          "text": [
            "Ingrese la temperatura en grados Celsius: 45\n",
            "La temperatura en Kelvin es: 318\n",
            "La temperatura en Fahrenheit es: 113\n"
          ]
        }
      ]
    },
    {
      "cell_type": "code",
      "source": [
        "# prompt: Solicite 2 numeros e imprima si el segundo es mayor\n",
        "\n",
        "numero1 = int(input(\"Ingrese el primer número: \"))\n",
        "numero2 = int(input(\"Ingrese el segundo número: \"))\n",
        "\n",
        "if numero2 > numero1:\n",
        "  print(\"El segundo número es mayor.\")\n",
        "else:\n",
        "  print(\"El segundo número no es mayor.\")\n"
      ],
      "metadata": {
        "colab": {
          "base_uri": "https://localhost:8080/"
        },
        "id": "jmvUbG-d1Wrm",
        "outputId": "06f639b3-99eb-44db-bb21-f41fb1de51db"
      },
      "execution_count": null,
      "outputs": [
        {
          "output_type": "stream",
          "name": "stdout",
          "text": [
            "Ingrese el primer número: 4\n",
            "Ingrese el segundo número: 8\n",
            "El segundo número es mayor.\n"
          ]
        }
      ]
    },
    {
      "cell_type": "code",
      "source": [
        "# prompt: Solicite 2 numeros e imprima si el segundo sea menor\n",
        "\n",
        "numero1 = int(input(\"Ingrese el primer número: \"))\n",
        "numero2 = int(input(\"Ingrese el segundo número: \"))\n",
        "\n",
        "if numero2 < numero1:\n",
        "  print(\"El segundo número es mayor.\")\n",
        "else:\n",
        "  print(\"El segundo número no es mayor.\")"
      ],
      "metadata": {
        "colab": {
          "base_uri": "https://localhost:8080/"
        },
        "id": "c-vdaWIc2b62",
        "outputId": "c441a584-4205-4330-b801-e142a33995e4"
      },
      "execution_count": null,
      "outputs": [
        {
          "output_type": "stream",
          "name": "stdout",
          "text": [
            "Ingrese el primer número: 4\n",
            "Ingrese el segundo número: 8\n",
            "El segundo número no es mayor.\n"
          ]
        }
      ]
    },
    {
      "cell_type": "code",
      "source": [
        "# prompt:  Solicite una distancia (metros) y la velocidad (metros/segundos) e imprima el tiempo que se demora el recorrido\n",
        "\n",
        "distancia = int(input(\"Ingrese la distancia en metros: \"))\n",
        "velocidad = int(input(\"Ingrese la velocidad en metros por segundo: \"))\n",
        "\n",
        "tiempo = distancia // velocidad  # Usamos // para obtener una división entera (sin decimales)\n",
        "\n",
        "print(\"El tiempo que se demora el recorrido es:\", tiempo, \"segundos\")\n"
      ],
      "metadata": {
        "colab": {
          "base_uri": "https://localhost:8080/"
        },
        "id": "fXkave6n2_-C",
        "outputId": "a07fddc9-2d51-4444-9ff5-09268dcdd725"
      },
      "execution_count": null,
      "outputs": [
        {
          "output_type": "stream",
          "name": "stdout",
          "text": [
            "Ingrese la distancia en metros: 2\n",
            "Ingrese la velocidad en metros por segundo: 60\n",
            "El tiempo que se demora el recorrido es: 0 segundos\n"
          ]
        }
      ]
    },
    {
      "cell_type": "code",
      "source": [],
      "metadata": {
        "id": "SgZTf0LC36CM"
      },
      "execution_count": null,
      "outputs": []
    },
    {
      "cell_type": "code",
      "source": [
        "# es una manera de como sacar la raiz en phyton y hay muchas maneras de sacarlas\n",
        "a = 25**0.5\n",
        "print(a)"
      ],
      "metadata": {
        "colab": {
          "base_uri": "https://localhost:8080/"
        },
        "id": "KFJbiFor5KPX",
        "outputId": "14a9d2cf-9364-4474-9d2a-4cbff94fac79"
      },
      "execution_count": null,
      "outputs": [
        {
          "output_type": "stream",
          "name": "stdout",
          "text": [
            "5.0\n"
          ]
        }
      ]
    },
    {
      "cell_type": "code",
      "source": [
        "# prompt: Con lo anterior solicite 2 numeros (Cateto a y Cateto b) e imprima la hipotenusa\n",
        "\n",
        "cateto_a = int(input(\"Ingrese la longitud del cateto a: \"))\n",
        "cateto_b = int(input(\"Ingrese la longitud del cateto b: \"))\n",
        "\n",
        "hipotenusa_cuadrado = cateto_a**2 + cateto_b**2\n",
        "hipotenusa = int(hipotenusa_cuadrado ** 0.5)  # Usamos int() para quitar los decimales\n",
        "\n",
        "print(\"La longitud de la hipotenusa es:\", hipotenusa)\n"
      ],
      "metadata": {
        "colab": {
          "base_uri": "https://localhost:8080/"
        },
        "id": "lumCC5YE5tGY",
        "outputId": "7dbd1e5b-c805-4bd2-801e-8328bbc0cb3c"
      },
      "execution_count": null,
      "outputs": [
        {
          "output_type": "stream",
          "name": "stdout",
          "text": [
            "Ingrese la longitud del cateto a: 45\n",
            "Ingrese la longitud del cateto b: 58\n",
            "La longitud de la hipotenusa es: 73\n"
          ]
        }
      ]
    }
  ]
}